{
 "cells": [
  {
   "cell_type": "markdown",
   "metadata": {},
   "source": [
    "# Get video from RTV SLO MMC\n",
    "\n",
    "I will try to create appliclation that downloads the video if I pass in the video code\n",
    "\n",
    "First I will get the response, afterwards I will create string of the URL with video or avdio(mp3) file.\n",
    "\n",
    "I will download the file and save it to my documents.\n",
    "\n",
    "I will also create UI using pyQt5. :)\n",
    "\n",
    "The `JSON` library has two main methods:\n",
    "\n",
    "- `dumps` -- Takes in a Python object, and converts it to a string\n",
    "- `loads` -- Takes a JSON string, and converts it to a Python object"
   ]
  },
  {
   "cell_type": "code",
   "execution_count": 1,
   "metadata": {},
   "outputs": [],
   "source": [
    "import requests\n",
    "import json\n",
    "import os"
   ]
  },
  {
   "cell_type": "markdown",
   "metadata": {},
   "source": [
    "# Testing"
   ]
  },
  {
   "cell_type": "code",
   "execution_count": 2,
   "metadata": {},
   "outputs": [],
   "source": [
    "video_ID_number = 174511173"
   ]
  },
  {
   "cell_type": "code",
   "execution_count": 3,
   "metadata": {},
   "outputs": [],
   "source": [
    "get_info_api = \"http://api.rtvslo.si/ava/getRecording/{0}?client_id=82013fb3a531d5414f478747c1aca622\".format(video_ID_number)"
   ]
  },
  {
   "cell_type": "markdown",
   "metadata": {},
   "source": [
    "### Some of possible responses\n",
    "\n",
    "The request we just made returned a status code of 200. Web servers return status codes every time they receive an API request. A status code provides information about what happened with a request. Here are some codes that are relevant to GET requests:\n",
    "\n",
    "- ``200`` - Everything went okay, and the server returned a result (if any).\n",
    "- `301` - The server is redirecting you to a different endpoint. This can happen when a company switches domain names, or an endpoint's name has changed.\n",
    "- `401` - The server thinks you're not authenticated. This happens when you don't send the right credentials to access an API (we'll talk about this in a later mission).\n",
    "- `400` - The server thinks you made a bad request. This can happen when you don't send the information the API requires to process your request, among other things.\n",
    "- `403` - The resource you're trying to access is forbidden; you don't have the right permissions to see it.\n",
    "- `404` - The server didn't find the resource you tried to access."
   ]
  },
  {
   "cell_type": "code",
   "execution_count": 10,
   "metadata": {},
   "outputs": [
    {
     "name": "stdout",
     "output_type": "stream",
     "text": [
      "200\n",
      "<class 'requests.models.Response'>\n"
     ]
    }
   ],
   "source": [
    "#get response from the web site (information)\n",
    "response = requests.get(get_info_api)\n",
    "print(response.status_code)\n",
    "print(type(response))"
   ]
  },
  {
   "cell_type": "code",
   "execution_count": 63,
   "metadata": {},
   "outputs": [
    {
     "name": "stdout",
     "output_type": "stream",
     "text": [
      "2017/12/29/RadioGA-GAMMC.PR1.20171229.5.1010.mp3\n",
      "http://videoweb2.rtvslo.si/ava_archive04\n",
      "File size is: 6214080 Bytes\n",
      "File size is: 47.41 MB\n",
      "2017-12-29\n"
     ]
    },
    {
     "data": {
      "text/plain": [
       "'2017-12-29 radio-ga-ga Radio GA - GA.mp3'"
      ]
     },
     "execution_count": 63,
     "metadata": {},
     "output_type": "execute_result"
    }
   ],
   "source": [
    "#transform the response to the dict using json library\n",
    "response_dict = response.json()\n",
    "\n",
    "#info about the file name\n",
    "file_name = response_dict['response']['mediaFiles'][0]['filename']\n",
    "print(file_name)\n",
    "\n",
    "#where the file is saved.. have to know in order to download the file\n",
    "http_streamer = response_dict['response']['mediaFiles'][0]['streamers']['http']\n",
    "print(http_streamer)\n",
    "\n",
    "#check the file size, if it is too big download it in chunks and ask user if it agreese\n",
    "file_size = response_dict['response']['mediaFiles'][0]['filesize']\n",
    "print('File size is: {0:.0f} Bytes'.format(int(file_size)/8.))\n",
    "print('File size is: {0:.2f} MB'.format(float(file_size)/2**20))\n",
    "\n",
    "#create informative file_name and appropriate file structure\n",
    "broadcast_date = response_dict['response']['broadcastDate']\n",
    "print(broadcast_date.split(' ')[0])#.replace('-' ,''))\n",
    "\n",
    "stub = response_dict['response']['stub']\n",
    "video_title = response_dict['response']['title']\n",
    "ending = file_name.split('.')[-1]\n",
    "\n",
    "my_filename = broadcast_date.split(' ')[0] +' ' + stub + ' ' + video_title + '.' + ending\n",
    "my_filename"
   ]
  },
  {
   "cell_type": "code",
   "execution_count": 5,
   "metadata": {},
   "outputs": [],
   "source": [
    "file_name = '2017/12/29/RadioGA-GAMMC.PR1.20171229.5.1010.mp3'"
   ]
  },
  {
   "cell_type": "code",
   "execution_count": 6,
   "metadata": {},
   "outputs": [],
   "source": [
    "http_streamer = 'http://videoweb2.rtvslo.si/ava_archive04'"
   ]
  },
  {
   "cell_type": "code",
   "execution_count": 61,
   "metadata": {},
   "outputs": [
    {
     "name": "stdout",
     "output_type": "stream",
     "text": [
      "200\n"
     ]
    }
   ],
   "source": [
    "r = requests.get(http_streamer + '/' + file_name)\n",
    "print(r.status_code)"
   ]
  },
  {
   "cell_type": "code",
   "execution_count": 34,
   "metadata": {},
   "outputs": [],
   "source": [
    "with open('./'  + my_filename, \"wb\") as code:\n",
    "    code.write(r.content)"
   ]
  },
  {
   "cell_type": "markdown",
   "metadata": {},
   "source": [
    "# Function that downloads the video\n",
    "\n",
    "based on above testing ... and so on"
   ]
  },
  {
   "cell_type": "code",
   "execution_count": 2,
   "metadata": {},
   "outputs": [],
   "source": [
    "def download_video_rtv_slo(video_ID_number, home = './', max_file_size_MB = 100):\n",
    "    '''downloads video from rtv slo site\n",
    "       it checks teh file size and create appropriate'''\n",
    "    #this is acquired from 'https://zmaga.com/content.php?id=7526' forum\n",
    "    get_info_api = \"http://api.rtvslo.si/ava/getRecording/{0}?client_id=82013fb3a531d5414f478747c1aca622\".format(video_ID_number)\n",
    "    \n",
    "    #get response from the web site (information)\n",
    "    response = requests.get(get_info_api)\n",
    "    if response.status_code != 200:\n",
    "        return False, 'Error at acquiring the info about the video.'\n",
    "    \n",
    "    #transform the response to the dict using json library\n",
    "    response_dict = response.json()\n",
    "\n",
    "    #info about the file name\n",
    "    file_name = response_dict['response']['mediaFiles'][0]['filename']\n",
    "    print(file_name)\n",
    "\n",
    "    #where the file is saved.. have to know in order to download the file\n",
    "    http_streamer = response_dict['response']['mediaFiles'][0]['streamers']['http']\n",
    "    print(http_streamer)\n",
    "\n",
    "    #check the file size, if it is too big download it in chunks and ask user if it agreese\n",
    "    file_size = response_dict['response']['mediaFiles'][0]['filesize']\n",
    "    file_size_MB = float(file_size)/2**20\n",
    "    print('File size is: {0:.0f} Bytes'.format(int(file_size)/8.))\n",
    "    print('File size is: {0:.2f} MB'.format(file_size_MB))\n",
    "    \n",
    "    if file_size_MB > max_file_size_MB:\n",
    "        return False, 'File size is too big, it is above {0}'.format(max_file_size_MB)\n",
    "\n",
    "    #create informative file_name and appropriate file structure\n",
    "    broadcast_date = response_dict['response']['broadcastDate']\n",
    "    print(broadcast_date.split(' ')[0])#.replace('-' ,''))\n",
    "\n",
    "    stub = response_dict['response']['stub']\n",
    "    video_title = response_dict['response']['title']\n",
    "    ending = file_name.split('.')[-1]\n",
    "\n",
    "    new_filename = broadcast_date.split(' ')[0] +' ' + stub + ' ' + video_title + '.' + ending\n",
    "    \n",
    "    #creating the directory where to put file, home mam definiran zgoraj da lahko manjam\n",
    "    save_directory = home + stub + '/'\n",
    "    if not os.path.exists(save_directory):\n",
    "        print('Had to create directory.')\n",
    "        os.makedirs(save_directory)\n",
    "    \n",
    "    # get actual file\n",
    "    r = requests.get(http_streamer + '/' + file_name)\n",
    "    if r.status_code != 200:\n",
    "        return False, \"Could not load actual video file.\"\n",
    "    try:\n",
    "        with open(save_directory  + new_filename, \"wb\") as file:\n",
    "            file.write(r.content)\n",
    "    except Exception as e:\n",
    "        msg = 'There was something wrong with writing to the file.'\n",
    "        return e, msg\n",
    "    \n",
    "    msg = 'Successfully downloaded the video \"{0}\" which is located at \"{1}\"'.format(video_title, save_directory)\n",
    "    return True, msg"
   ]
  },
  {
   "cell_type": "code",
   "execution_count": 76,
   "metadata": {},
   "outputs": [
    {
     "name": "stdout",
     "output_type": "stream",
     "text": [
      "2017/10/13/Politikakleeplazenja3603719.mp3\n",
      "http://videoweb2.rtvslo.si/ava_archive04\n",
      "File size is: 1276464 Bytes\n",
      "File size is: 9.74 MB\n",
      "2017-10-13\n",
      "Had to create directory.\n"
     ]
    },
    {
     "data": {
      "text/plain": [
       "(True,\n",
       " 'Successfully downloaded the video Politika klečeplazenja which is located at ./petkova-centrifuga/')"
      ]
     },
     "execution_count": 76,
     "metadata": {},
     "output_type": "execute_result"
    }
   ],
   "source": [
    "download_video_rtv_slo(174496432)"
   ]
  },
  {
   "cell_type": "markdown",
   "metadata": {},
   "source": [
    "# Using above defined function\n",
    "\n",
    "I will use above function to load desired videos, currently I am saving them in tha directory where this jupyter notebook is located."
   ]
  },
  {
   "cell_type": "code",
   "execution_count": 85,
   "metadata": {},
   "outputs": [],
   "source": [
    "# Loaded on 2018\n",
    "centrifuge = [174496432,174497858,174499253,174500352,174501697,174503172,\n",
    "              174504576,174505979,174510191,174507349,174508722,174511238]\n",
    "radio_ga_ga = [174508592,174510079,174511173]\n",
    "zapisi_iz_mocvirja = [174497146,174498583,174499845,174500969,174502444,\n",
    "                      174503824,174505244,174506608,174508049,174509334,174510634]"
   ]
  },
  {
   "cell_type": "code",
   "execution_count": 80,
   "metadata": {},
   "outputs": [
    {
     "name": "stdout",
     "output_type": "stream",
     "text": [
      "2017/10/13/Politikakleeplazenja3603719.mp3\n",
      "http://videoweb2.rtvslo.si/ava_archive04\n",
      "File size is: 1276464 Bytes\n",
      "File size is: 9.74 MB\n",
      "2017-10-13\n",
      "2017/10/20/Paletavsebinskihnemaniev3612871.mp3\n",
      "http://videoweb2.rtvslo.si/ava_archive04\n",
      "File size is: 1380528 Bytes\n",
      "File size is: 10.53 MB\n",
      "2017-10-20\n",
      "2017/10/27/KatalonciKitajciJaponciinSlovenci3621565.mp3\n",
      "http://videoweb2.rtvslo.si/ava_archive04\n",
      "File size is: 1242624 Bytes\n",
      "File size is: 9.48 MB\n",
      "2017-10-27\n",
      "2017/11/03/Poltisoletnidolgsamemusebi3627089.mp3\n",
      "http://videoweb2.rtvslo.si/ava_archive04\n",
      "File size is: 1150224 Bytes\n",
      "File size is: 8.78 MB\n",
      "2017-11-03\n",
      "2017/11/10/Deelaskrivalnic3634249.mp3\n",
      "http://videoweb2.rtvslo.si/ava_archive04\n",
      "File size is: 1235568 Bytes\n",
      "File size is: 9.43 MB\n",
      "2017-11-10\n",
      "2017/11/17/Sprejemamosamoangele3643771.mp3\n",
      "http://videoweb2.rtvslo.si/ava_archive04\n",
      "File size is: 1133808 Bytes\n",
      "File size is: 8.65 MB\n",
      "2017-11-17\n",
      "2017/11/24/Poljekrvikiganobenaobsodbanemoreoistiti3651340.mp3\n",
      "http://videoweb2.rtvslo.si/ava_archive04\n",
      "File size is: 1121568 Bytes\n",
      "File size is: 8.56 MB\n",
      "2017-11-24\n",
      "2017/12/01/PrihajaJunckerjevconsigliere3659211.mp3\n",
      "http://videoweb2.rtvslo.si/ava_archive04\n",
      "File size is: 1396512 Bytes\n",
      "File size is: 10.65 MB\n",
      "2017-12-01\n",
      "2017/12/22/Bueinbuke3684942.mp3\n",
      "http://videoweb2.rtvslo.si/ava_archive04\n",
      "File size is: 1126128 Bytes\n",
      "File size is: 8.59 MB\n",
      "2017-12-22\n",
      "2017/12/08/Decembrskanavideznaresninost3667705.mp3\n",
      "http://videoweb2.rtvslo.si/ava_archive04\n",
      "File size is: 1253136 Bytes\n",
      "File size is: 9.56 MB\n",
      "2017-12-08\n",
      "2017/12/15/Stvarinisorno-bele3676041.mp3\n",
      "http://videoweb2.rtvslo.si/ava_archive04\n",
      "File size is: 1300608 Bytes\n",
      "File size is: 9.92 MB\n",
      "2017-12-15\n",
      "2017/12/29/Zgodbesomonejeodzgodovineinbirokracije3690548.mp3\n",
      "http://videoweb2.rtvslo.si/ava_archive04\n",
      "File size is: 1188720 Bytes\n",
      "File size is: 9.07 MB\n",
      "2017-12-29\n"
     ]
    }
   ],
   "source": [
    "for video_ID in centrifuge:\n",
    "    download_video_rtv_slo(video_ID)"
   ]
  },
  {
   "cell_type": "code",
   "execution_count": 81,
   "metadata": {},
   "outputs": [
    {
     "name": "stdout",
     "output_type": "stream",
     "text": [
      "2017/12/15/RadioGA-GAMMC.PR1.20171215.5.1010.mp3\n",
      "http://videoweb2.rtvslo.si/ava_archive04\n",
      "File size is: 6088512 Bytes\n",
      "File size is: 46.45 MB\n",
      "2017-12-15\n",
      "Had to create directory.\n",
      "2017/12/22/RadioGA-GAMMC.PR1.20171222.5.1010.mp3\n",
      "http://videoweb2.rtvslo.si/ava_archive04\n",
      "File size is: 6386064 Bytes\n",
      "File size is: 48.72 MB\n",
      "2017-12-22\n",
      "2017/12/29/RadioGA-GAMMC.PR1.20171229.5.1010.mp3\n",
      "http://videoweb2.rtvslo.si/ava_archive04\n",
      "File size is: 6214080 Bytes\n",
      "File size is: 47.41 MB\n",
      "2017-12-29\n"
     ]
    }
   ],
   "source": [
    "for video_ID in radio_ga_ga:\n",
    "    download_video_rtv_slo(video_ID)"
   ]
  },
  {
   "cell_type": "code",
   "execution_count": 86,
   "metadata": {},
   "outputs": [
    {
     "name": "stdout",
     "output_type": "stream",
     "text": [
      "2017/10/17/20303608986.mp3\n",
      "http://videoweb2.rtvslo.si/ava_archive04\n",
      "File size is: 961200 Bytes\n",
      "File size is: 7.33 MB\n",
      "2017-10-17\n",
      "Successfully downloaded the video \"2030\" which is located at \"./zapisi-iz-mocvirja/\"\n",
      "2017/10/24/Prekletstvolepenedelje3617472.mp3\n",
      "http://videoweb2.rtvslo.si/ava_archive04\n",
      "File size is: 970752 Bytes\n",
      "File size is: 7.41 MB\n",
      "2017-10-24\n",
      "Successfully downloaded the video \"Prekletstvo lepe nedelje\" which is located at \"./zapisi-iz-mocvirja/\"\n",
      "2017/10/31/ezvodoskaekjerjemost3624583.mp3\n",
      "http://videoweb2.rtvslo.si/ava_archive04\n",
      "File size is: 835392 Bytes\n",
      "File size is: 6.37 MB\n",
      "2017-10-31\n",
      "Successfully downloaded the video \"Čez vodo skače, kjer je most\" which is located at \"./zapisi-iz-mocvirja/\"\n",
      "2017/11/07/Zidarskamodanapolitinihdogodkih3630096.mp3\n",
      "http://videoweb2.rtvslo.si/ava_archive04\n",
      "File size is: 985872 Bytes\n",
      "File size is: 7.52 MB\n",
      "2017-11-07\n",
      "Successfully downloaded the video \"Zidarska moda na političnih dogodkih\" which is located at \"./zapisi-iz-mocvirja/\"\n",
      "2017/11/14/Zloininkazenposlovensko3638249.mp3\n",
      "http://videoweb2.rtvslo.si/ava_archive04\n",
      "File size is: 750096 Bytes\n",
      "File size is: 5.72 MB\n",
      "2017-11-14\n",
      "Successfully downloaded the video \"Zločin in kazen po slovensko\" which is located at \"./zapisi-iz-mocvirja/\"\n",
      "2017/11/21/Klincvasgleda3647153.mp3\n",
      "http://videoweb2.rtvslo.si/ava_archive04\n",
      "File size is: 918576 Bytes\n",
      "File size is: 7.01 MB\n",
      "2017-11-21\n",
      "Successfully downloaded the video \"Klinc vas gleda\" which is located at \"./zapisi-iz-mocvirja/\"\n",
      "2017/11/28/MedoglasnimiblokialiReklamokracija3654851.mp3\n",
      "http://videoweb2.rtvslo.si/ava_archive04\n",
      "File size is: 757872 Bytes\n",
      "File size is: 5.78 MB\n",
      "2017-11-28\n",
      "Successfully downloaded the video \"Med oglasnimi bloki ali Reklamokracija\" which is located at \"./zapisi-iz-mocvirja/\"\n",
      "2017/12/05/Zasebniolarji3663059.mp3\n",
      "http://videoweb2.rtvslo.si/ava_archive04\n",
      "File size is: 937968 Bytes\n",
      "File size is: 7.16 MB\n",
      "2017-12-05\n",
      "Successfully downloaded the video \"Zasebni šolarji\" which is located at \"./zapisi-iz-mocvirja/\"\n",
      "2017/12/12/Kolikojetehuraliizkrivljenarealnost3671425.mp3\n",
      "http://videoweb2.rtvslo.si/ava_archive04\n",
      "File size is: 918768 Bytes\n",
      "File size is: 7.01 MB\n",
      "2017-12-12\n",
      "Successfully downloaded the video \"Koliko je teh ur ali izkrivljena realnost\" which is located at \"./zapisi-iz-mocvirja/\"\n",
      "2017/12/19/Svobodendenarnesvobodnihljudi3679510.mp3\n",
      "http://videoweb2.rtvslo.si/ava_archive04\n",
      "File size is: 954912 Bytes\n",
      "File size is: 7.29 MB\n",
      "2017-12-19\n",
      "Successfully downloaded the video \"Svoboden denar nesvobodnih ljudi\" which is located at \"./zapisi-iz-mocvirja/\"\n",
      "2017/12/26/Javnostjavnihoseb3687143.mp3\n",
      "http://videoweb2.rtvslo.si/ava_archive04\n",
      "File size is: 850704 Bytes\n",
      "File size is: 6.49 MB\n",
      "2017-12-26\n",
      "Successfully downloaded the video \"Javnost javnih oseb\" which is located at \"./zapisi-iz-mocvirja/\"\n"
     ]
    }
   ],
   "source": [
    "for video_ID in zapisi_iz_mocvirja:\n",
    "    succ, msg = download_video_rtv_slo(video_ID)\n",
    "    print(msg)"
   ]
  },
  {
   "cell_type": "code",
   "execution_count": 4,
   "metadata": {},
   "outputs": [
    {
     "name": "stdout",
     "output_type": "stream",
     "text": [
      "2018/01/05/RadioGA-GAMMC.PR1.20180105.5.1010.mp3\n",
      "http://videoweb2.rtvslo.si/ava_archive04\n",
      "File size is: 6039504 Bytes\n",
      "File size is: 46.08 MB\n",
      "2018-01-05\n",
      "2018/01/05/Enostranskostnasvehstraneh3696088.mp3\n",
      "http://videoweb2.rtvslo.si/ava_archive04\n",
      "File size is: 1092144 Bytes\n",
      "File size is: 8.33 MB\n",
      "2018-01-05\n",
      "2018/01/09/DostitekoineinvitaminaC3698991.mp3\n",
      "http://videoweb2.rtvslo.si/ava_archive04\n",
      "File size is: 980640 Bytes\n",
      "File size is: 7.48 MB\n",
      "2018-01-09\n",
      "2018/01/12/RadioGA-GAMMC.PR1.20180112.5.1010.mp3\n",
      "http://videoweb2.rtvslo.si/ava_archive04\n",
      "File size is: 6150432 Bytes\n",
      "File size is: 46.92 MB\n",
      "2018-01-12\n",
      "2018/01/12/Izmerljivainneizmerljivakoda3704403.mp3\n",
      "http://videoweb2.rtvslo.si/ava_archive04\n",
      "File size is: 1368432 Bytes\n",
      "File size is: 10.44 MB\n",
      "2018-01-12\n"
     ]
    }
   ],
   "source": [
    "mix_14_01_2018 = [174512169,174512296,174512830,174513473,174513567]\n",
    "for video_ID in mix_14_01_2018:\n",
    "    download_video_rtv_slo(video_ID)"
   ]
  },
  {
   "cell_type": "code",
   "execution_count": null,
   "metadata": {},
   "outputs": [],
   "source": []
  }
 ],
 "metadata": {
  "kernelspec": {
   "display_name": "Python 3",
   "language": "python",
   "name": "python3"
  },
  "language_info": {
   "codemirror_mode": {
    "name": "ipython",
    "version": 3
   },
   "file_extension": ".py",
   "mimetype": "text/x-python",
   "name": "python",
   "nbconvert_exporter": "python",
   "pygments_lexer": "ipython3",
   "version": "3.5.3"
  }
 },
 "nbformat": 4,
 "nbformat_minor": 2
}
